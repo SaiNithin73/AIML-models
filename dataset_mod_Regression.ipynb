{
  "nbformat": 4,
  "nbformat_minor": 0,
  "metadata": {
    "colab": {
      "provenance": [],
      "authorship_tag": "ABX9TyPDk8hAAoc6jdZldnwh1q8q",
      "include_colab_link": true
    },
    "kernelspec": {
      "name": "python3",
      "display_name": "Python 3"
    },
    "language_info": {
      "name": "python"
    }
  },
  "cells": [
    {
      "cell_type": "markdown",
      "metadata": {
        "id": "view-in-github",
        "colab_type": "text"
      },
      "source": [
        "<a href=\"https://colab.research.google.com/github/SaiNithin73/AIML-models/blob/main/dataset_mod_Regression.ipynb\" target=\"_parent\"><img src=\"https://colab.research.google.com/assets/colab-badge.svg\" alt=\"Open In Colab\"/></a>"
      ]
    },
    {
      "cell_type": "code",
      "execution_count": null,
      "metadata": {
        "id": "oJTEp-IBIhvE"
      },
      "outputs": [],
      "source": [
        "import numpy as np\n",
        "import pandas as pd\n",
        "from sklearn.datasets import make_regression\n",
        "from sklearn.model_selection import train_test_split\n",
        "from sklearn.linear_model import LinearRegression\n",
        "from sklearn.metrics import mean_squared_error, r2_score\n",
        "\n"
      ]
    },
    {
      "cell_type": "code",
      "source": [
        "df=pd.read_csv('/content/archive (1).zip')\n",
        "print(df.head(19))"
      ],
      "metadata": {
        "colab": {
          "base_uri": "https://localhost:8080/"
        },
        "id": "iJz9XMuGJh-N",
        "outputId": "57d91091-a053-4c3b-93b0-001c8be0310a"
      },
      "execution_count": null,
      "outputs": [
        {
          "output_type": "stream",
          "name": "stdout",
          "text": [
            "    age     sex     bmi  children smoker     region      charges\n",
            "0    19  female  27.900         0    yes  southwest  16884.92400\n",
            "1    18    male  33.770         1     no  southeast   1725.55230\n",
            "2    28    male  33.000         3     no  southeast   4449.46200\n",
            "3    33    male  22.705         0     no  northwest  21984.47061\n",
            "4    32    male  28.880         0     no  northwest   3866.85520\n",
            "5    31  female  25.740         0     no  southeast   3756.62160\n",
            "6    46  female  33.440         1     no  southeast   8240.58960\n",
            "7    37  female  27.740         3     no  northwest   7281.50560\n",
            "8    37    male  29.830         2     no  northeast   6406.41070\n",
            "9    60  female  25.840         0     no  northwest  28923.13692\n",
            "10   25    male  26.220         0     no  northeast   2721.32080\n",
            "11   62  female  26.290         0    yes  southeast  27808.72510\n",
            "12   23    male  34.400         0     no  southwest   1826.84300\n",
            "13   56  female  39.820         0     no  southeast  11090.71780\n",
            "14   27    male  42.130         0    yes  southeast  39611.75770\n",
            "15   19    male  24.600         1     no  southwest   1837.23700\n",
            "16   52  female  30.780         1     no  northeast  10797.33620\n",
            "17   23    male  23.845         0     no  northeast   2395.17155\n",
            "18   56    male  40.300         0     no  southwest  10602.38500\n"
          ]
        }
      ]
    },
    {
      "cell_type": "code",
      "source": [
        "df.drop('region', axis = 1, inplace = True)\n",
        "print(df)"
      ],
      "metadata": {
        "colab": {
          "base_uri": "https://localhost:8080/"
        },
        "id": "Ig4aCtwiLEPi",
        "outputId": "ad9e77bd-f0a1-41e7-98b0-2b2ebfa2cb6e"
      },
      "execution_count": null,
      "outputs": [
        {
          "output_type": "stream",
          "name": "stdout",
          "text": [
            "      age     sex     bmi  children smoker      charges\n",
            "0      19  female  27.900         0    yes  16884.92400\n",
            "1      18    male  33.770         1     no   1725.55230\n",
            "2      28    male  33.000         3     no   4449.46200\n",
            "3      33    male  22.705         0     no  21984.47061\n",
            "4      32    male  28.880         0     no   3866.85520\n",
            "...   ...     ...     ...       ...    ...          ...\n",
            "1333   50    male  30.970         3     no  10600.54830\n",
            "1334   18  female  31.920         0     no   2205.98080\n",
            "1335   18  female  36.850         0     no   1629.83350\n",
            "1336   21  female  25.800         0     no   2007.94500\n",
            "1337   61  female  29.070         0    yes  29141.36030\n",
            "\n",
            "[1338 rows x 6 columns]\n"
          ]
        }
      ]
    },
    {
      "cell_type": "code",
      "source": [
        "df['smoker']=df['smoker'].replace(['yes','no'],[1,0])\n",
        "print(df)"
      ],
      "metadata": {
        "colab": {
          "base_uri": "https://localhost:8080/"
        },
        "id": "X0bY5nQ_RFfk",
        "outputId": "8d12a5a2-ce21-4d79-9d9f-7bfdf2665add"
      },
      "execution_count": null,
      "outputs": [
        {
          "output_type": "stream",
          "name": "stdout",
          "text": [
            "      age     sex     bmi  children  smoker      charges\n",
            "0      19  female  27.900         0       1  16884.92400\n",
            "1      18    male  33.770         1       0   1725.55230\n",
            "2      28    male  33.000         3       0   4449.46200\n",
            "3      33    male  22.705         0       0  21984.47061\n",
            "4      32    male  28.880         0       0   3866.85520\n",
            "...   ...     ...     ...       ...     ...          ...\n",
            "1333   50    male  30.970         3       0  10600.54830\n",
            "1334   18  female  31.920         0       0   2205.98080\n",
            "1335   18  female  36.850         0       0   1629.83350\n",
            "1336   21  female  25.800         0       0   2007.94500\n",
            "1337   61  female  29.070         0       1  29141.36030\n",
            "\n",
            "[1338 rows x 6 columns]\n"
          ]
        }
      ]
    },
    {
      "cell_type": "code",
      "source": [
        "df['sex']=df['sex'].replace(['male','female'],[1,0])\n",
        "print(df)"
      ],
      "metadata": {
        "colab": {
          "base_uri": "https://localhost:8080/"
        },
        "id": "qnB29eqsTYsO",
        "outputId": "2cbfdf2a-1066-44ed-8c64-7b0a99a0ff21"
      },
      "execution_count": null,
      "outputs": [
        {
          "output_type": "stream",
          "name": "stdout",
          "text": [
            "      age  sex     bmi  children  smoker      charges\n",
            "0      19    0  27.900         0       1  16884.92400\n",
            "1      18    1  33.770         1       0   1725.55230\n",
            "2      28    1  33.000         3       0   4449.46200\n",
            "3      33    1  22.705         0       0  21984.47061\n",
            "4      32    1  28.880         0       0   3866.85520\n",
            "...   ...  ...     ...       ...     ...          ...\n",
            "1333   50    1  30.970         3       0  10600.54830\n",
            "1334   18    0  31.920         0       0   2205.98080\n",
            "1335   18    0  36.850         0       0   1629.83350\n",
            "1336   21    0  25.800         0       0   2007.94500\n",
            "1337   61    0  29.070         0       1  29141.36030\n",
            "\n",
            "[1338 rows x 6 columns]\n"
          ]
        },
        {
          "output_type": "stream",
          "name": "stderr",
          "text": [
            "/tmp/ipython-input-26-4229917463.py:1: FutureWarning: Downcasting behavior in `replace` is deprecated and will be removed in a future version. To retain the old behavior, explicitly call `result.infer_objects(copy=False)`. To opt-in to the future behavior, set `pd.set_option('future.no_silent_downcasting', True)`\n",
            "  df['sex']=df['sex'].replace(['male','female'],[1,0])\n"
          ]
        }
      ]
    },
    {
      "cell_type": "code",
      "source": [
        "df['sex']=df['sex'].replace(['male','female'],[1,0])\n",
        "#result.infer_objects(copy=False)\n",
        "pd.set_option('future.no_silent_downcasting', True)"
      ],
      "metadata": {
        "id": "Oc_EFnlCTxFM"
      },
      "execution_count": null,
      "outputs": []
    },
    {
      "cell_type": "code",
      "source": [],
      "metadata": {
        "id": "RW4UPfLSYwms"
      },
      "execution_count": null,
      "outputs": []
    },
    {
      "cell_type": "code",
      "source": [
        "x = df[['sex','children','smoker']]\n",
        "y = df['charges']"
      ],
      "metadata": {
        "id": "8GbrNVMUVpoP"
      },
      "execution_count": null,
      "outputs": []
    },
    {
      "cell_type": "code",
      "source": [
        "x_train , x_test , y_train , y_test = train_test_split(x,y,test_size=0.2,random_state=42)\n",
        "model = LinearRegression()\n",
        "model.fit(x_train,y_train)\n",
        "y_pred = model.predict(x_test)\n",
        "mse = mean_squared_error(y_test,y_pred)\n",
        "r2 = r2_score(y_test,y_pred)\n",
        "print(f\"Mean Squared Error: {mse}\")\n",
        "print(f\"R-squared: {r2}\")\n"
      ],
      "metadata": {
        "colab": {
          "base_uri": "https://localhost:8080/"
        },
        "id": "v40RsQWnUTEE",
        "outputId": "f66aebb0-ec4a-4238-f12a-8b08b09797ca"
      },
      "execution_count": null,
      "outputs": [
        {
          "output_type": "stream",
          "name": "stdout",
          "text": [
            "Mean Squared Error: 52089730.05357472\n",
            "R-squared: 0.6644756478648914\n"
          ]
        }
      ]
    },
    {
      "cell_type": "code",
      "source": [
        "for i in range(len(y_test)):\n",
        "  print(f\"Actual: {y_test.iloc[i]} ,Predicted: {y_pred[i]}\")"
      ],
      "metadata": {
        "colab": {
          "base_uri": "https://localhost:8080/"
        },
        "id": "tDAMvh3hXNe2",
        "outputId": "d498a9d1-78a7-4709-da6f-96bdaf8a8aa9"
      },
      "execution_count": null,
      "outputs": [
        {
          "output_type": "stream",
          "name": "stdout",
          "text": [
            "Actual: 9095.06825 ,Predicted: 9115.38014404083\n",
            "Actual: 5272.1758 ,Predicted: 7910.004375814222\n",
            "Actual: 29330.98315 ,Predicted: 31072.248332583084\n",
            "Actual: 9301.89355 ,Predicted: 9730.353653382906\n",
            "Actual: 33750.2918 ,Predicted: 31084.53395781185\n",
            "Actual: 4536.259 ,Predicted: 8524.977885156299\n",
            "Actual: 2117.33885 ,Predicted: 7910.004375814222\n",
            "Actual: 14210.53595 ,Predicted: 7922.290001042994\n",
            "Actual: 3732.6251 ,Predicted: 7910.004375814222\n",
            "Actual: 10264.4421 ,Predicted: 9730.353653382906\n",
            "Actual: 18259.216 ,Predicted: 32892.597610151766\n",
            "Actual: 7256.7231 ,Predicted: 9127.665769269603\n",
            "Actual: 3947.4131 ,Predicted: 8512.692259927526\n",
            "Actual: 46151.1245 ,Predicted: 32892.597610151766\n",
            "Actual: 48673.5588 ,Predicted: 31084.53395781185\n",
            "Actual: 44202.6536 ,Predicted: 32289.90972603846\n",
            "Actual: 9800.8882 ,Predicted: 9115.38014404083\n",
            "Actual: 42969.8527 ,Predicted: 31674.936216696384\n",
            "Actual: 8233.0975 ,Predicted: 8512.692259927526\n",
            "Actual: 21774.32215 ,Predicted: 31072.248332583084\n",
            "Actual: 5080.096 ,Predicted: 10935.729421609514\n",
            "Actual: 7441.501 ,Predicted: 9127.665769269603\n",
            "Actual: 1256.299 ,Predicted: 7922.290001042994\n",
            "Actual: 2755.02095 ,Predicted: 7910.004375814222\n",
            "Actual: 11085.5868 ,Predicted: 9718.068028154134\n",
            "Actual: 10923.9332 ,Predicted: 7910.004375814222\n",
            "Actual: 12644.589 ,Predicted: 7910.004375814222\n",
            "Actual: 18804.7524 ,Predicted: 9718.068028154134\n",
            "Actual: 9715.841 ,Predicted: 9115.38014404083\n",
            "Actual: 1131.5066 ,Predicted: 7922.290001042994\n",
            "Actual: 15828.82173 ,Predicted: 10320.755912267437\n",
            "Actual: 11842.62375 ,Predicted: 7910.004375814222\n",
            "Actual: 2020.5523 ,Predicted: 7910.004375814222\n",
            "Actual: 5693.4305 ,Predicted: 9718.068028154134\n",
            "Actual: 2904.088 ,Predicted: 8524.977885156299\n",
            "Actual: 7448.40395 ,Predicted: 7922.290001042994\n",
            "Actual: 2597.779 ,Predicted: 8512.692259927526\n",
            "Actual: 7337.748 ,Predicted: 8512.692259927526\n",
            "Actual: 23887.6627 ,Predicted: 31674.936216696384\n",
            "Actual: 38709.176 ,Predicted: 31687.22184192516\n",
            "Actual: 4687.797 ,Predicted: 10923.443796380741\n",
            "Actual: 2643.2685 ,Predicted: 8524.977885156299\n",
            "Actual: 11674.13 ,Predicted: 8512.692259927526\n",
            "Actual: 12124.9924 ,Predicted: 7922.290001042994\n",
            "Actual: 4889.9995 ,Predicted: 9127.665769269603\n",
            "Actual: 12333.828 ,Predicted: 8524.977885156299\n",
            "Actual: 3579.8287 ,Predicted: 9115.38014404083\n",
            "Actual: 4391.652 ,Predicted: 9718.068028154134\n",
            "Actual: 42124.5153 ,Predicted: 32892.597610151766\n",
            "Actual: 4463.2051 ,Predicted: 9127.665769269603\n",
            "Actual: 13887.204 ,Predicted: 7910.004375814222\n",
            "Actual: 1719.4363 ,Predicted: 8524.977885156299\n",
            "Actual: 28476.73499 ,Predicted: 8512.692259927526\n",
            "Actual: 1708.92575 ,Predicted: 7922.290001042994\n",
            "Actual: 10594.2257 ,Predicted: 7922.290001042994\n",
            "Actual: 25333.33284 ,Predicted: 9127.665769269603\n",
            "Actual: 3645.0894 ,Predicted: 7922.290001042994\n",
            "Actual: 38746.3551 ,Predicted: 32892.597610151766\n",
            "Actual: 11848.141 ,Predicted: 7910.004375814222\n",
            "Actual: 10564.8845 ,Predicted: 7910.004375814222\n",
            "Actual: 13880.949 ,Predicted: 7910.004375814222\n",
            "Actual: 4753.6368 ,Predicted: 9115.38014404083\n",
            "Actual: 27941.28758 ,Predicted: 9730.353653382906\n",
            "Actual: 8017.06115 ,Predicted: 9115.38014404083\n",
            "Actual: 23045.56616 ,Predicted: 7910.004375814222\n",
            "Actual: 4133.64165 ,Predicted: 8512.692259927526\n",
            "Actual: 17942.106 ,Predicted: 33495.28549426507\n",
            "Actual: 25992.82104 ,Predicted: 9730.353653382906\n",
            "Actual: 3594.17085 ,Predicted: 8512.692259927526\n",
            "Actual: 1682.597 ,Predicted: 7922.290001042994\n",
            "Actual: 6079.6715 ,Predicted: 8524.977885156299\n",
            "Actual: 9411.005 ,Predicted: 9115.38014404083\n",
            "Actual: 8283.6807 ,Predicted: 7910.004375814222\n",
            "Actual: 6338.0756 ,Predicted: 9127.665769269603\n",
            "Actual: 7152.6714 ,Predicted: 8524.977885156299\n",
            "Actual: 4889.0368 ,Predicted: 7910.004375814222\n",
            "Actual: 4846.92015 ,Predicted: 9730.353653382906\n",
            "Actual: 11454.0215 ,Predicted: 7910.004375814222\n",
            "Actual: 4349.462 ,Predicted: 9115.38014404083\n",
            "Actual: 9101.798 ,Predicted: 9718.068028154134\n",
            "Actual: 1391.5287 ,Predicted: 7922.290001042994\n",
            "Actual: 28101.33305 ,Predicted: 31084.53395781185\n",
            "Actual: 5152.134 ,Predicted: 9115.38014404083\n",
            "Actual: 38511.6283 ,Predicted: 32277.62410080969\n",
            "Actual: 44501.3982 ,Predicted: 31687.22184192516\n",
            "Actual: 41097.16175 ,Predicted: 31084.53395781185\n",
            "Actual: 4837.5823 ,Predicted: 9730.353653382906\n",
            "Actual: 10601.63225 ,Predicted: 7922.290001042994\n",
            "Actual: 8310.83915 ,Predicted: 9115.38014404083\n",
            "Actual: 11264.541 ,Predicted: 9730.353653382906\n",
            "Actual: 15230.32405 ,Predicted: 9115.38014404083\n",
            "Actual: 27037.9141 ,Predicted: 31072.248332583084\n",
            "Actual: 23401.30575 ,Predicted: 31674.936216696384\n",
            "Actual: 5031.26955 ,Predicted: 9127.665769269603\n",
            "Actual: 38282.7495 ,Predicted: 31687.22184192516\n",
            "Actual: 6875.961 ,Predicted: 9127.665769269603\n",
            "Actual: 19719.6947 ,Predicted: 31687.22184192516\n",
            "Actual: 1880.07 ,Predicted: 7910.004375814222\n",
            "Actual: 18765.87545 ,Predicted: 32880.31198492299\n",
            "Actual: 6402.29135 ,Predicted: 9115.38014404083\n",
            "Actual: 4527.18295 ,Predicted: 8512.692259927526\n",
            "Actual: 1743.214 ,Predicted: 7910.004375814222\n",
            "Actual: 5709.1644 ,Predicted: 7922.290001042994\n",
            "Actual: 12363.547 ,Predicted: 9730.353653382906\n",
            "Actual: 13129.60345 ,Predicted: 7922.290001042994\n",
            "Actual: 1727.54 ,Predicted: 8524.977885156299\n",
            "Actual: 7731.4271 ,Predicted: 9127.665769269603\n",
            "Actual: 21195.818 ,Predicted: 31084.53395781185\n",
            "Actual: 1702.4553 ,Predicted: 7922.290001042994\n",
            "Actual: 23244.7902 ,Predicted: 31674.936216696384\n",
            "Actual: 23082.95533 ,Predicted: 7922.290001042994\n",
            "Actual: 2927.0647 ,Predicted: 8524.977885156299\n",
            "Actual: 13019.16105 ,Predicted: 8512.692259927526\n",
            "Actual: 37701.8768 ,Predicted: 31674.936216696384\n",
            "Actual: 9778.3472 ,Predicted: 8512.692259927526\n",
            "Actual: 1980.07 ,Predicted: 8524.977885156299\n",
            "Actual: 30259.99556 ,Predicted: 7922.290001042994\n",
            "Actual: 22478.6 ,Predicted: 32277.62410080969\n",
            "Actual: 6313.759 ,Predicted: 9115.38014404083\n",
            "Actual: 2789.0574 ,Predicted: 8524.977885156299\n",
            "Actual: 5594.8455 ,Predicted: 8512.692259927526\n",
            "Actual: 7261.741 ,Predicted: 9127.665769269603\n",
            "Actual: 11396.9002 ,Predicted: 9115.38014404083\n",
            "Actual: 1986.9334 ,Predicted: 7922.290001042994\n",
            "Actual: 4719.73655 ,Predicted: 9115.38014404083\n",
            "Actual: 7749.1564 ,Predicted: 9115.38014404083\n",
            "Actual: 7345.7266 ,Predicted: 8512.692259927526\n",
            "Actual: 9288.0267 ,Predicted: 8524.977885156299\n",
            "Actual: 12244.531 ,Predicted: 7910.004375814222\n",
            "Actual: 1837.2819 ,Predicted: 7922.290001042994\n",
            "Actual: 3972.9247 ,Predicted: 7910.004375814222\n",
            "Actual: 5934.3798 ,Predicted: 9730.353653382906\n",
            "Actual: 5836.5204 ,Predicted: 9115.38014404083\n",
            "Actual: 7935.29115 ,Predicted: 7910.004375814222\n",
            "Actual: 5649.715 ,Predicted: 7910.004375814222\n",
            "Actual: 12347.172 ,Predicted: 8524.977885156299\n",
            "Actual: 12404.8791 ,Predicted: 7922.290001042994\n",
            "Actual: 22144.032 ,Predicted: 31084.53395781185\n",
            "Actual: 42983.4585 ,Predicted: 31072.248332583084\n",
            "Actual: 37270.1512 ,Predicted: 31072.248332583084\n",
            "Actual: 5267.81815 ,Predicted: 7910.004375814222\n",
            "Actual: 9866.30485 ,Predicted: 7910.004375814222\n",
            "Actual: 2322.6218 ,Predicted: 7922.290001042994\n",
            "Actual: 33471.97189 ,Predicted: 9115.38014404083\n",
            "Actual: 2137.6536 ,Predicted: 7922.290001042994\n",
            "Actual: 23306.547 ,Predicted: 32289.90972603846\n",
            "Actual: 5261.46945 ,Predicted: 9127.665769269603\n",
            "Actual: 3761.292 ,Predicted: 7910.004375814222\n",
            "Actual: 11436.73815 ,Predicted: 9718.068028154134\n",
            "Actual: 4751.07 ,Predicted: 8524.977885156299\n",
            "Actual: 46661.4424 ,Predicted: 32880.31198492299\n",
            "Actual: 2690.1138 ,Predicted: 7910.004375814222\n",
            "Actual: 1146.7966 ,Predicted: 7922.290001042994\n",
            "Actual: 37607.5277 ,Predicted: 31687.22184192516\n",
            "Actual: 6373.55735 ,Predicted: 8512.692259927526\n",
            "Actual: 4518.82625 ,Predicted: 7922.290001042994\n",
            "Actual: 13555.0049 ,Predicted: 7922.290001042994\n",
            "Actual: 8547.6913 ,Predicted: 8512.692259927526\n",
            "Actual: 34439.8559 ,Predicted: 31072.248332583084\n",
            "Actual: 39125.33225 ,Predicted: 31687.22184192516\n",
            "Actual: 13607.36875 ,Predicted: 9115.38014404083\n",
            "Actual: 2710.82855 ,Predicted: 8512.692259927526\n",
            "Actual: 14988.432 ,Predicted: 9127.665769269603\n",
            "Actual: 2396.0959 ,Predicted: 7922.290001042994\n",
            "Actual: 3591.48 ,Predicted: 9730.353653382906\n",
            "Actual: 7162.0122 ,Predicted: 9127.665769269603\n",
            "Actual: 48824.45 ,Predicted: 31072.248332583084\n",
            "Actual: 43578.9394 ,Predicted: 31072.248332583084\n",
            "Actual: 39556.4945 ,Predicted: 31687.22184192516\n",
            "Actual: 2632.992 ,Predicted: 7910.004375814222\n",
            "Actual: 9182.17 ,Predicted: 8512.692259927526\n",
            "Actual: 6238.298 ,Predicted: 8512.692259927526\n",
            "Actual: 5757.41345 ,Predicted: 7922.290001042994\n",
            "Actual: 4239.89265 ,Predicted: 8524.977885156299\n",
            "Actual: 2154.361 ,Predicted: 7910.004375814222\n",
            "Actual: 21978.6769 ,Predicted: 31687.22184192516\n",
            "Actual: 16297.846 ,Predicted: 31084.53395781185\n",
            "Actual: 13831.1152 ,Predicted: 7922.290001042994\n",
            "Actual: 32734.1863 ,Predicted: 32277.62410080969\n",
            "Actual: 11830.6072 ,Predicted: 7910.004375814222\n",
            "Actual: 29523.1656 ,Predicted: 31072.248332583084\n",
            "Actual: 3167.45585 ,Predicted: 8512.692259927526\n",
            "Actual: 8428.0693 ,Predicted: 8524.977885156299\n",
            "Actual: 5012.471 ,Predicted: 8512.692259927526\n",
            "Actual: 5209.57885 ,Predicted: 9730.353653382906\n",
            "Actual: 2855.43755 ,Predicted: 7910.004375814222\n",
            "Actual: 20277.80751 ,Predicted: 8524.977885156299\n",
            "Actual: 3554.203 ,Predicted: 7910.004375814222\n",
            "Actual: 8569.8618 ,Predicted: 8512.692259927526\n",
            "Actual: 10594.50155 ,Predicted: 7922.290001042994\n",
            "Actual: 3597.596 ,Predicted: 9730.353653382906\n",
            "Actual: 7323.734819 ,Predicted: 7910.004375814222\n",
            "Actual: 2731.9122 ,Predicted: 7910.004375814222\n",
            "Actual: 38711.0 ,Predicted: 32289.90972603846\n",
            "Actual: 12981.3457 ,Predicted: 7922.290001042994\n",
            "Actual: 9283.562 ,Predicted: 7910.004375814222\n",
            "Actual: 2709.1119 ,Predicted: 8512.692259927526\n",
            "Actual: 12096.6512 ,Predicted: 9115.38014404083\n",
            "Actual: 2198.18985 ,Predicted: 7910.004375814222\n",
            "Actual: 8932.084 ,Predicted: 7910.004375814222\n",
            "Actual: 3176.2877 ,Predicted: 7910.004375814222\n",
            "Actual: 24393.6224 ,Predicted: 31084.53395781185\n",
            "Actual: 4266.1658 ,Predicted: 9127.665769269603\n",
            "Actual: 22493.65964 ,Predicted: 9127.665769269603\n",
            "Actual: 17085.2676 ,Predicted: 31674.936216696384\n",
            "Actual: 16577.7795 ,Predicted: 31072.248332583084\n",
            "Actual: 8827.2099 ,Predicted: 7922.290001042994\n",
            "Actual: 4296.2712 ,Predicted: 9718.068028154134\n",
            "Actual: 7804.1605 ,Predicted: 7922.290001042994\n",
            "Actual: 3208.787 ,Predicted: 8512.692259927526\n",
            "Actual: 12957.118 ,Predicted: 7922.290001042994\n",
            "Actual: 22192.43711 ,Predicted: 8512.692259927526\n",
            "Actual: 9432.9253 ,Predicted: 9115.38014404083\n",
            "Actual: 17043.3414 ,Predicted: 31084.53395781185\n",
            "Actual: 6593.5083 ,Predicted: 9127.665769269603\n",
            "Actual: 4137.5227 ,Predicted: 7910.004375814222\n",
            "Actual: 4779.6023 ,Predicted: 8512.692259927526\n",
            "Actual: 14001.2867 ,Predicted: 9718.068028154134\n",
            "Actual: 12629.8967 ,Predicted: 7910.004375814222\n",
            "Actual: 5245.2269 ,Predicted: 8512.692259927526\n",
            "Actual: 2404.7338 ,Predicted: 7910.004375814222\n",
            "Actual: 6948.7008 ,Predicted: 7922.290001042994\n",
            "Actual: 6435.6237 ,Predicted: 9730.353653382906\n",
            "Actual: 42560.4304 ,Predicted: 32289.90972603846\n",
            "Actual: 2055.3249 ,Predicted: 7922.290001042994\n",
            "Actual: 34672.1472 ,Predicted: 31084.53395781185\n",
            "Actual: 1731.677 ,Predicted: 7910.004375814222\n",
            "Actual: 1639.5631 ,Predicted: 7922.290001042994\n",
            "Actual: 9377.9047 ,Predicted: 8524.977885156299\n",
            "Actual: 10977.2063 ,Predicted: 10320.755912267437\n",
            "Actual: 1534.3045 ,Predicted: 7922.290001042994\n",
            "Actual: 9644.2525 ,Predicted: 7910.004375814222\n",
            "Actual: 4529.477 ,Predicted: 9115.38014404083\n",
            "Actual: 37829.7242 ,Predicted: 31084.53395781185\n",
            "Actual: 9991.03765 ,Predicted: 7910.004375814222\n",
            "Actual: 8125.7845 ,Predicted: 7922.290001042994\n",
            "Actual: 3877.30425 ,Predicted: 9127.665769269603\n",
            "Actual: 5979.731 ,Predicted: 7922.290001042994\n",
            "Actual: 43896.3763 ,Predicted: 32277.62410080969\n",
            "Actual: 1674.6323 ,Predicted: 7922.290001042994\n",
            "Actual: 13204.28565 ,Predicted: 7910.004375814222\n",
            "Actual: 44585.45587 ,Predicted: 32289.90972603846\n",
            "Actual: 3021.80915 ,Predicted: 7910.004375814222\n",
            "Actual: 3392.9768 ,Predicted: 8512.692259927526\n",
            "Actual: 1632.03625 ,Predicted: 7922.290001042994\n",
            "Actual: 2699.56835 ,Predicted: 7922.290001042994\n",
            "Actual: 20177.67113 ,Predicted: 9115.38014404083\n",
            "Actual: 4076.497 ,Predicted: 8524.977885156299\n",
            "Actual: 12592.5345 ,Predicted: 10923.443796380741\n",
            "Actual: 1621.3402 ,Predicted: 7922.290001042994\n",
            "Actual: 1875.344 ,Predicted: 7910.004375814222\n",
            "Actual: 7196.867 ,Predicted: 9730.353653382906\n",
            "Actual: 3161.454 ,Predicted: 7910.004375814222\n",
            "Actual: 12029.2867 ,Predicted: 7910.004375814222\n",
            "Actual: 2719.27975 ,Predicted: 8512.692259927526\n",
            "Actual: 18218.16139 ,Predicted: 8512.692259927526\n",
            "Actual: 12146.971 ,Predicted: 7922.290001042994\n",
            "Actual: 3292.52985 ,Predicted: 8524.977885156299\n",
            "Actual: 8688.85885 ,Predicted: 7922.290001042994\n",
            "Actual: 6113.23105 ,Predicted: 9718.068028154134\n",
            "Actual: 8059.6791 ,Predicted: 9718.068028154134\n",
            "Actual: 13415.0381 ,Predicted: 7910.004375814222\n",
            "Actual: 18246.4955 ,Predicted: 31084.53395781185\n",
            "Actual: 47055.5321 ,Predicted: 31084.53395781185\n",
            "Actual: 12222.8983 ,Predicted: 7910.004375814222\n",
            "Actual: 6067.12675 ,Predicted: 8524.977885156299\n",
            "Actual: 63770.42801 ,Predicted: 31072.248332583084\n",
            "Actual: 9872.701 ,Predicted: 8512.692259927526\n"
          ]
        }
      ]
    },
    {
      "cell_type": "code",
      "source": [
        "new_data=[[1,4,1]]\n",
        "predicted_charges=model.predict(new_data)\n",
        "print(f\"Predicted Charges: {predicted_charges[0]}\")"
      ],
      "metadata": {
        "colab": {
          "base_uri": "https://localhost:8080/"
        },
        "id": "wSO4NjQAYC88",
        "outputId": "a54be5cd-aae3-4584-ecf2-8da2ad47d8f7"
      },
      "execution_count": null,
      "outputs": [
        {
          "output_type": "stream",
          "name": "stdout",
          "text": [
            "Predicted Charges: 33495.28549426507\n"
          ]
        },
        {
          "output_type": "stream",
          "name": "stderr",
          "text": [
            "/usr/local/lib/python3.11/dist-packages/sklearn/utils/validation.py:2739: UserWarning: X does not have valid feature names, but LinearRegression was fitted with feature names\n",
            "  warnings.warn(\n"
          ]
        }
      ]
    }
  ]
}