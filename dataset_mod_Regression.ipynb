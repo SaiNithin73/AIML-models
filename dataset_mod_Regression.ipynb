{
  "nbformat": 4,
  "nbformat_minor": 0,
  "metadata": {
    "colab": {
      "provenance": [],
      "authorship_tag": "ABX9TyOzFOnZzRGCTDGFYceNDAAs",
      "include_colab_link": true
    },
    "kernelspec": {
      "name": "python3",
      "display_name": "Python 3"
    },
    "language_info": {
      "name": "python"
    }
  },
  "cells": [
    {
      "cell_type": "markdown",
      "metadata": {
        "id": "view-in-github",
        "colab_type": "text"
      },
      "source": [
        "<a href=\"https://colab.research.google.com/github/SaiNithin73/AIML-models/blob/main/dataset_mod_Regression.ipynb\" target=\"_parent\"><img src=\"https://colab.research.google.com/assets/colab-badge.svg\" alt=\"Open In Colab\"/></a>"
      ]
    },
    {
      "cell_type": "code",
      "execution_count": 2,
      "metadata": {
        "id": "oJTEp-IBIhvE"
      },
      "outputs": [],
      "source": [
        "import numpy as np\n",
        "import pandas as pd\n",
        "from sklearn.datasets import make_regression\n",
        "from sklearn.model_selection import train_test_split\n",
        "from sklearn.linear_model import LinearRegression\n",
        "from sklearn.metrics import mean_squared_error, r2_score\n",
        "\n"
      ]
    },
    {
      "cell_type": "code",
      "source": [
        "df=pd.read_csv('/content/insurance.csv')\n",
        "print(df.head(19))"
      ],
      "metadata": {
        "colab": {
          "base_uri": "https://localhost:8080/"
        },
        "id": "iJz9XMuGJh-N",
        "outputId": "3a04c58b-c749-42bd-f688-874f27629588"
      },
      "execution_count": 3,
      "outputs": [
        {
          "output_type": "stream",
          "name": "stdout",
          "text": [
            "    age     sex     bmi  children smoker     region      charges\n",
            "0    19  female  27.900         0    yes  southwest  16884.92400\n",
            "1    18    male  33.770         1     no  southeast   1725.55230\n",
            "2    28    male  33.000         3     no  southeast   4449.46200\n",
            "3    33    male  22.705         0     no  northwest  21984.47061\n",
            "4    32    male  28.880         0     no  northwest   3866.85520\n",
            "5    31  female  25.740         0     no  southeast   3756.62160\n",
            "6    46  female  33.440         1     no  southeast   8240.58960\n",
            "7    37  female  27.740         3     no  northwest   7281.50560\n",
            "8    37    male  29.830         2     no  northeast   6406.41070\n",
            "9    60  female  25.840         0     no  northwest  28923.13692\n",
            "10   25    male  26.220         0     no  northeast   2721.32080\n",
            "11   62  female  26.290         0    yes  southeast  27808.72510\n",
            "12   23    male  34.400         0     no  southwest   1826.84300\n",
            "13   56  female  39.820         0     no  southeast  11090.71780\n",
            "14   27    male  42.130         0    yes  southeast  39611.75770\n",
            "15   19    male  24.600         1     no  southwest   1837.23700\n",
            "16   52  female  30.780         1     no  northeast  10797.33620\n",
            "17   23    male  23.845         0     no  northeast   2395.17155\n",
            "18   56    male  40.300         0     no  southwest  10602.38500\n"
          ]
        }
      ]
    },
    {
      "cell_type": "code",
      "source": [
        "df.drop('region', axis = 1, inplace = True)\n",
        "print(df)"
      ],
      "metadata": {
        "colab": {
          "base_uri": "https://localhost:8080/"
        },
        "id": "Ig4aCtwiLEPi",
        "outputId": "db6ef443-a905-4fd2-ac9d-2caa1f993891"
      },
      "execution_count": 4,
      "outputs": [
        {
          "output_type": "stream",
          "name": "stdout",
          "text": [
            "      age     sex     bmi  children smoker      charges\n",
            "0      19  female  27.900         0    yes  16884.92400\n",
            "1      18    male  33.770         1     no   1725.55230\n",
            "2      28    male  33.000         3     no   4449.46200\n",
            "3      33    male  22.705         0     no  21984.47061\n",
            "4      32    male  28.880         0     no   3866.85520\n",
            "...   ...     ...     ...       ...    ...          ...\n",
            "1333   50    male  30.970         3     no  10600.54830\n",
            "1334   18  female  31.920         0     no   2205.98080\n",
            "1335   18  female  36.850         0     no   1629.83350\n",
            "1336   21  female  25.800         0     no   2007.94500\n",
            "1337   61  female  29.070         0    yes  29141.36030\n",
            "\n",
            "[1338 rows x 6 columns]\n"
          ]
        }
      ]
    },
    {
      "cell_type": "code",
      "source": [
        "df['smoker']=df['smoker'].replace(['yes','no'],[1,0])\n",
        "print(df)"
      ],
      "metadata": {
        "colab": {
          "base_uri": "https://localhost:8080/"
        },
        "id": "X0bY5nQ_RFfk",
        "outputId": "ad7e026d-633e-4807-e6ec-5b3038935e57"
      },
      "execution_count": 5,
      "outputs": [
        {
          "output_type": "stream",
          "name": "stdout",
          "text": [
            "      age     sex     bmi  children  smoker      charges\n",
            "0      19  female  27.900         0       1  16884.92400\n",
            "1      18    male  33.770         1       0   1725.55230\n",
            "2      28    male  33.000         3       0   4449.46200\n",
            "3      33    male  22.705         0       0  21984.47061\n",
            "4      32    male  28.880         0       0   3866.85520\n",
            "...   ...     ...     ...       ...     ...          ...\n",
            "1333   50    male  30.970         3       0  10600.54830\n",
            "1334   18  female  31.920         0       0   2205.98080\n",
            "1335   18  female  36.850         0       0   1629.83350\n",
            "1336   21  female  25.800         0       0   2007.94500\n",
            "1337   61  female  29.070         0       1  29141.36030\n",
            "\n",
            "[1338 rows x 6 columns]\n"
          ]
        },
        {
          "output_type": "stream",
          "name": "stderr",
          "text": [
            "/tmp/ipython-input-5-3566945332.py:1: FutureWarning: Downcasting behavior in `replace` is deprecated and will be removed in a future version. To retain the old behavior, explicitly call `result.infer_objects(copy=False)`. To opt-in to the future behavior, set `pd.set_option('future.no_silent_downcasting', True)`\n",
            "  df['smoker']=df['smoker'].replace(['yes','no'],[1,0])\n"
          ]
        }
      ]
    },
    {
      "cell_type": "code",
      "source": [
        "df['sex']=df['sex'].replace(['male','female'],[1,0]).infer_objects(copy=False)\n",
        "print(df)"
      ],
      "metadata": {
        "colab": {
          "base_uri": "https://localhost:8080/"
        },
        "id": "qnB29eqsTYsO",
        "outputId": "4a108b81-13c1-4c21-ef3d-889f2377547e"
      },
      "execution_count": 8,
      "outputs": [
        {
          "output_type": "stream",
          "name": "stdout",
          "text": [
            "      age  sex     bmi  children  smoker      charges\n",
            "0      19    0  27.900         0       1  16884.92400\n",
            "1      18    1  33.770         1       0   1725.55230\n",
            "2      28    1  33.000         3       0   4449.46200\n",
            "3      33    1  22.705         0       0  21984.47061\n",
            "4      32    1  28.880         0       0   3866.85520\n",
            "...   ...  ...     ...       ...     ...          ...\n",
            "1333   50    1  30.970         3       0  10600.54830\n",
            "1334   18    0  31.920         0       0   2205.98080\n",
            "1335   18    0  36.850         0       0   1629.83350\n",
            "1336   21    0  25.800         0       0   2007.94500\n",
            "1337   61    0  29.070         0       1  29141.36030\n",
            "\n",
            "[1338 rows x 6 columns]\n"
          ]
        }
      ]
    },
    {
      "cell_type": "code",
      "source": [
        "df['sex']=df['sex'].replace(['male','female'],[1,0])\n",
        "\n",
        "pd.set_option('future.no_silent_downcasting', True)"
      ],
      "metadata": {
        "id": "Oc_EFnlCTxFM"
      },
      "execution_count": 11,
      "outputs": []
    },
    {
      "cell_type": "code",
      "source": [
        "x = df[['sex','children','smoker']]\n",
        "y = df['charges']"
      ],
      "metadata": {
        "id": "8GbrNVMUVpoP"
      },
      "execution_count": 10,
      "outputs": []
    },
    {
      "cell_type": "code",
      "source": [
        "x_train , x_test , y_train , y_test = train_test_split(x,y,test_size=0.2,random_state=42)\n",
        "model = LinearRegression()\n",
        "model.fit(x_train,y_train)\n",
        "y_pred = model.predict(x_test)\n",
        "mse = mean_squared_error(y_test,y_pred)\n",
        "r2 = r2_score(y_test,y_pred)\n",
        "print(f\"Mean Squared Error: {mse}\")\n",
        "print(f\"R-squared: {r2}\")\n"
      ],
      "metadata": {
        "colab": {
          "base_uri": "https://localhost:8080/"
        },
        "id": "v40RsQWnUTEE",
        "outputId": "ee1812d1-0cc1-42a1-c8e6-76b09639b2b2"
      },
      "execution_count": 12,
      "outputs": [
        {
          "output_type": "stream",
          "name": "stdout",
          "text": [
            "Mean Squared Error: 52089730.05357472\n",
            "R-squared: 0.6644756478648914\n"
          ]
        }
      ]
    },
    {
      "cell_type": "code",
      "source": [
        "for i in range(2, 10):\n",
        "  print(f\"Actual: {y_test.iloc[i]} ,Predicted: {y_pred[i]}\")"
      ],
      "metadata": {
        "colab": {
          "base_uri": "https://localhost:8080/"
        },
        "id": "tDAMvh3hXNe2",
        "outputId": "28e85762-def7-4af0-c252-f44f6c39eda9"
      },
      "execution_count": 16,
      "outputs": [
        {
          "output_type": "stream",
          "name": "stdout",
          "text": [
            "Actual: 29330.98315 ,Predicted: 31072.248332583084\n",
            "Actual: 9301.89355 ,Predicted: 9730.353653382906\n",
            "Actual: 33750.2918 ,Predicted: 31084.53395781185\n",
            "Actual: 4536.259 ,Predicted: 8524.977885156299\n",
            "Actual: 2117.33885 ,Predicted: 7910.004375814222\n",
            "Actual: 14210.53595 ,Predicted: 7922.290001042994\n",
            "Actual: 3732.6251 ,Predicted: 7910.004375814222\n",
            "Actual: 10264.4421 ,Predicted: 9730.353653382906\n"
          ]
        }
      ]
    },
    {
      "cell_type": "code",
      "source": [
        "new_data=pd.DataFrame([[1,4,1]], columns=x_train.columns)\n",
        "predicted_charges=model.predict(new_data)\n",
        "print(f\"Predicted Charges: {predicted_charges[0]}\")"
      ],
      "metadata": {
        "colab": {
          "base_uri": "https://localhost:8080/"
        },
        "id": "wSO4NjQAYC88",
        "outputId": "e3871db5-c5a3-42fb-e622-123dcf45772c"
      },
      "execution_count": 13,
      "outputs": [
        {
          "output_type": "stream",
          "name": "stdout",
          "text": [
            "Predicted Charges: 33495.28549426507\n"
          ]
        }
      ]
    }
  ]
}